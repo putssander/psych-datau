{
 "cells": [
  {
   "cell_type": "markdown",
   "metadata": {
    "pycharm": {
     "name": "#%% md\n"
    }
   },
   "source": [
    "# Objective Binge Classifier #"
   ]
  },
  {
   "cell_type": "markdown",
   "metadata": {},
   "source": [
    "Import dependencies"
   ]
  },
  {
   "cell_type": "code",
   "execution_count": null,
   "metadata": {
    "pycharm": {
     "is_executing": false
    }
   },
   "outputs": [],
   "source": [
    "!pip install openpyxl\n",
    "import pandas as pd\n",
    "import json"
   ]
  },
  {
   "cell_type": "markdown",
   "metadata": {},
   "source": [
    "Set paths and columns of response document"
   ]
  },
  {
   "cell_type": "code",
   "execution_count": null,
   "metadata": {
    "pycharm": {
     "is_executing": false,
     "name": "#%%\n"
    }
   },
   "outputs": [],
   "source": [
    "path_in = '../resources/data_ignored/Onderzoeksassistente/merged_unfiltered.xlsx'\n",
    "df = pd.read_excel(path_in)\n",
    "\n",
    "col_name_post_instance_key = 'POST_instance_key'\n",
    "col_name_post_loc = 'POST_LOC' # Self-reported Loss Of Control\n",
    "col_name_pre_type = 'PRE_TYPE'\n",
    "col_post_sub_binge = 'POST_SUB_BINGE'\n",
    "\n",
    "text_export = False # is data exported in text representation?\n",
    "\n",
    "# 0 no\n",
    "# 1 yes\n",
    "# 2 na\n",
    "loc_true = 1 # Self-reported Loss Of Control required value\n",
    "\n",
    "# 0 no\n",
    "# 1 yes\n",
    "# 2 na\n",
    "sub_binge_true = 1 # Subjective Binge required value\n",
    "\n",
    "# 1 ontbijt\n",
    "# 2 lunch\n",
    "# 3 diner\n",
    "# 4 anders\n",
    "pre_type_category_other = ['Anders']\n",
    "if not text_export:\n",
    "    pre_type_category_other = [4]\n",
    "\n",
    "\n",
    "columns_type_counts = df[col_name_pre_type].value_counts()\n",
    "print('counts', columns_type_counts)"
   ]
  },
  {
   "cell_type": "markdown",
   "metadata": {},
   "source": [
    "Set paths and columns of config document which included portion sizes"
   ]
  },
  {
   "cell_type": "code",
   "execution_count": null,
   "metadata": {
    "pycharm": {
     "is_executing": false,
     "name": "#%%\n"
    }
   },
   "outputs": [],
   "source": [
    "path_config = '../resources/config/binge_config.xlsx'\n",
    "\n",
    "df_config = pd.read_excel(path_config)\n",
    "print(df_config.columns)"
   ]
  },
  {
   "cell_type": "markdown",
   "metadata": {},
   "source": [
    "Set paths and columns for result document"
   ]
  },
  {
   "cell_type": "code",
   "execution_count": null,
   "metadata": {
    "pycharm": {
     "is_executing": false,
     "name": "#%%\n"
    }
   },
   "outputs": [],
   "source": [
    "col_objective_binge = 'objective_binge'  \n",
    "col_subjective_binge = 'subjective_binge' \n",
    "col_no_loc_no_sub_binge_verify = 'no_loc_no_sub_binge_verify'\n",
    "col_loc_verify = 'loc_verify'\n",
    "col_no_binge = 'no_binge'\n",
    "col_binge_intake = 'binge_intake'\n",
    "path_out = '../resources/data_ignored/Onderzoeksassistente/report.merged-binge.xlsx'\n",
    "path_out_raters = '../resources/data_ignored/Onderzoeksassistente/report.merged-binge-raters.xlsx'"
   ]
  },
  {
   "cell_type": "markdown",
   "metadata": {},
   "source": [
    "Classification methods"
   ]
  },
  {
   "cell_type": "code",
   "execution_count": null,
   "metadata": {
    "pycharm": {
     "is_executing": false,
     "name": "#%%\n"
    }
   },
   "outputs": [],
   "source": [
    "def isNaN(num):\n",
    "    return num != num\n",
    "\n",
    "def get_binge_value(row, category_number):\n",
    "    if row[col_name_pre_type] in pre_type_category_other:\n",
    "        col_name_bing_int = 'other_int'\n",
    "    else:\n",
    "        col_name_bing_int = 'meals_int'\n",
    "    return df_config.loc[df_config['#'] == category_number, col_name_bing_int].item()\n",
    "\n",
    "def objective_binge(row):\n",
    "    if isNaN(row[col_name_post_instance_key]):\n",
    "        return \"IGNORE_POST_INSTANCE_MISSING\"\n",
    "    if row[col_name_post_loc] != loc_true:\n",
    "        return \"IGNORE_POST_LOC_FALSE\"\n",
    "    if row[col_post_sub_binge] != sub_binge_true:\n",
    "        return \"IGNORE_POST_SUB_BINGE_FALSE\"\n",
    "    for x in range(24):\n",
    "        category_number = x + 1\n",
    "        col_name_post_intake_por = 'POST_INTAKE_POR_'+str(category_number)\n",
    "        if not isNaN(row[col_name_post_intake_por]):\n",
    "            value = row[col_name_post_intake_por]\n",
    "            binge_value = get_binge_value(row, category_number)\n",
    "            if value > binge_value:\n",
    "                return True\n",
    "            else:\n",
    "                return False\n",
    "    return \"NO_PORTION\"\n",
    "\n",
    "def subjective_binge(row):\n",
    "    if isNaN(row[col_name_post_instance_key]):\n",
    "        return \"IGNORE_POST_INSTANCE_MISSING\"\n",
    "    if row[col_name_post_loc] != loc_true:\n",
    "        return \"IGNORE_POST_LOC_FALSE\"\n",
    "    if row[col_post_sub_binge] != sub_binge_true:\n",
    "        return \"IGNORE_POST_SUB_BINGE_FALSE\"\n",
    "    return True\n",
    "\n",
    "def no_loc_no_sub_binge_verify(row):\n",
    "    if isNaN(row[col_name_post_instance_key]):\n",
    "        return \"IGNORE_POST_INSTANCE_MISSING\"\n",
    "    if row[col_name_post_loc] == loc_true:\n",
    "        return \"IGNORE_POST_LOC_TRUE\"\n",
    "    if row[col_post_sub_binge] == sub_binge_true:\n",
    "        return \"IGNORE_POST_SUB_BINGE_TRUE\"\n",
    "    for x in range(24):\n",
    "        category_number = x + 1\n",
    "        col_name_post_intake_por = 'POST_INTAKE_POR_'+str(category_number)\n",
    "        if not isNaN(row[col_name_post_intake_por]):\n",
    "            value = row[col_name_post_intake_por]\n",
    "            binge_value = get_binge_value(row, category_number)\n",
    "            if value > binge_value:\n",
    "                return True\n",
    "            else:\n",
    "                return False\n",
    "    return \"NO_PORTION\"\n",
    "\n",
    "def loc_binge_verify(row):\n",
    "    if isNaN(row[col_name_post_instance_key]):\n",
    "        return \"IGNORE_POST_INSTANCE_MISSING\"\n",
    "    if row[col_name_post_loc] != loc_true:\n",
    "        return \"IGNORE_POST_LOC_FALSE\"\n",
    "    for x in range(24):\n",
    "        category_number = x + 1\n",
    "        col_name_post_intake_por = 'POST_INTAKE_POR_'+str(category_number)\n",
    "        if not isNaN(row[col_name_post_intake_por]):\n",
    "            value = row[col_name_post_intake_por]\n",
    "            binge_value = get_binge_value(row, category_number)\n",
    "            if value > binge_value:\n",
    "                return True\n",
    "            else:\n",
    "                return False\n",
    "    return \"NO_PORTION\"\n",
    "\n",
    "def no_binge(row):\n",
    "    if isNaN(row[col_name_post_instance_key]):\n",
    "        return \"IGNORE_POST_INSTANCE_MISSING\"\n",
    "    if row[col_name_post_loc] == loc_true:\n",
    "        return False\n",
    "    if row[col_post_sub_binge] == sub_binge_true:\n",
    "        return False\n",
    "    return True\n",
    "\n",
    "def get_binge_intake(row):\n",
    "    intake_list = []\n",
    "    for x in range(24):\n",
    "        category_number = x + 1\n",
    "        col_name_post_intake_por = 'POST_INTAKE_POR_'+str(category_number)\n",
    "        if not isNaN(row[col_name_post_intake_por]):\n",
    "            value = row[col_name_post_intake_por]\n",
    "            binge_value = get_binge_value(row, category_number)\n",
    "            if value > binge_value:\n",
    "                intake = { \"category_number\": category_number, \"intake_por\": binge_value }\n",
    "                intake_list.append(intake)\n",
    "            else:\n",
    "                continue\n",
    "    return json.dumps(intake_list)"
   ]
  },
  {
   "cell_type": "markdown",
   "metadata": {},
   "source": [
    "Preform classification and write results"
   ]
  },
  {
   "cell_type": "code",
   "execution_count": null,
   "metadata": {
    "pycharm": {
     "is_executing": false,
     "name": "#%%\n"
    }
   },
   "outputs": [],
   "source": [
    "df[col_objective_binge] = df.apply(objective_binge, axis=1)\n",
    "df[col_subjective_binge] = df.apply(subjective_binge, axis=1)\n",
    "df[col_loc_verify] = df.apply(loc_binge_verify, axis=1)\n",
    "df[col_no_loc_no_sub_binge_verify] = df.apply(no_loc_no_sub_binge_verify, axis=1)\n",
    "df[col_no_binge] = df.apply(no_binge, axis=1)\n",
    "df[col_binge_intake] = df.apply(get_binge_intake, axis=1)\n",
    "\n",
    "\n",
    "\n",
    "col_objective_binge_counts = df[col_objective_binge].value_counts()\n",
    "print('total PRE entries', len(df.index))\n",
    "print(col_objective_binge) \n",
    "print(col_objective_binge_counts)\n",
    "\n",
    "print(\"---\")\n",
    "col_loc_verify_counts = df[col_loc_verify].value_counts()\n",
    "print(col_loc_verify) \n",
    "print(col_loc_verify_counts)\n",
    "\n",
    "print(\"---\")\n",
    "col_no_loc_no_sub_binge_verify_counts = df[col_no_loc_no_sub_binge_verify].value_counts()\n",
    "print(col_no_loc_no_sub_binge_verify) \n",
    "print(col_no_loc_no_sub_binge_verify_counts)\n"
   ]
  },
  {
   "cell_type": "markdown",
   "metadata": {},
   "source": [
    "Prepare dataset for labelling of objective binges and normal eating moments"
   ]
  },
  {
   "cell_type": "code",
   "execution_count": null,
   "metadata": {
    "pycharm": {
     "is_executing": false
    }
   },
   "outputs": [],
   "source": [
    "objective_df = df[df[col_objective_binge] == True]\n",
    "no_binge = df[df[col_no_binge] == True]\n",
    "\n",
    "obj_binge_count = len(objective_df.index)\n",
    "print('objective binge entries', obj_binge_count)\n",
    "print('no binge', len(no_binge.index))\n",
    "\n",
    "no_binge_sample = no_binge.sample(n=obj_binge_count) #equal sample size\n",
    "\n",
    "df_to_label = pd.concat([objective_df, no_binge_sample])\n",
    "df_to_label = df_to_label[['instance_key_x','PRE_COGN']].sample(frac=1) #shuffle                   \n"
   ]
  },
  {
   "cell_type": "markdown",
   "metadata": {},
   "source": [
    "Write dataframes to excel"
   ]
  },
  {
   "cell_type": "code",
   "execution_count": null,
   "metadata": {
    "pycharm": {
     "is_executing": false
    }
   },
   "outputs": [],
   "source": [
    "print('writing result')\n",
    "df.to_excel(path_out)\n",
    "df_to_label.to_excel(path_out_raters)\n",
    "print('done!')"
   ]
  }
 ],
 "metadata": {
  "kernelspec": {
   "display_name": "Python 3",
   "language": "python",
   "name": "python3"
  },
  "language_info": {
   "codemirror_mode": {
    "name": "ipython",
    "version": 3
   },
   "file_extension": ".py",
   "mimetype": "text/x-python",
   "name": "python",
   "nbconvert_exporter": "python",
   "pygments_lexer": "ipython3",
   "version": "3.7.6"
  },
  "pycharm": {
   "stem_cell": {
    "cell_type": "raw",
    "metadata": {
     "collapsed": false
    },
    "source": []
   }
  }
 },
 "nbformat": 4,
 "nbformat_minor": 1
}
