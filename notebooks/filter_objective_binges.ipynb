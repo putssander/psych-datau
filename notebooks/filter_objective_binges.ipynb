{
 "cells": [
  {
   "cell_type": "markdown",
   "metadata": {
    "pycharm": {
     "name": "#%% md\n"
    }
   },
   "source": [
    "# Objective Binge Classifier #"
   ]
  },
  {
   "cell_type": "markdown",
   "metadata": {},
   "source": [
    "Import dependencies"
   ]
  },
  {
   "cell_type": "code",
   "execution_count": 1,
   "metadata": {},
   "outputs": [
    {
     "name": "stdout",
     "output_type": "stream",
     "text": [
      "Requirement already satisfied: openpyxl in /opt/conda/lib/python3.7/site-packages (3.0.3)\r\n",
      "Requirement already satisfied: et-xmlfile in /opt/conda/lib/python3.7/site-packages (from openpyxl) (1.0.1)\r\n",
      "Requirement already satisfied: jdcal in /opt/conda/lib/python3.7/site-packages (from openpyxl) (1.4.1)\r\n"
     ]
    }
   ],
   "source": [
    "!pip install openpyxl\n",
    "import pandas as pd"
   ]
  },
  {
   "cell_type": "markdown",
   "metadata": {},
   "source": [
    "Set paths and columns of response document"
   ]
  },
  {
   "cell_type": "code",
   "execution_count": 2,
   "metadata": {
    "pycharm": {
     "is_executing": false,
     "name": "#%%\n"
    }
   },
   "outputs": [
    {
     "name": "stdout",
     "output_type": "stream",
     "text": [
      "counts Anders     572\n",
      "Ontbijt    442\n",
      "Diner      437\n",
      "Lunch      412\n",
      "Name: PRE_TYPE, dtype: int64\n"
     ]
    }
   ],
   "source": [
    "path_in = '../resources/data_ignored/report.merged-vj-unfiltered.xlsx'\n",
    "df = pd.read_excel(path_in)\n",
    "\n",
    "col_name_post_instance_key = 'POST_instance_key'\n",
    "col_name_post_loc = 'POST_LOC' # Self-reported Loss Of Control\n",
    "col_name_pre_type = 'PRE_TYPE'\n",
    "col_post_sub_binge = 'POST_SUB_BINGE'\n",
    "\n",
    "loc_true = 1 # Self-reported Loss Of Control required value\n",
    "sub_binge_true = 1 # Subjective Binge required value\n",
    "pre_type_category_other = ['Anders']\n",
    "\n",
    "columns_type_counts = df[col_name_pre_type].value_counts()\n",
    "print('counts', columns_type_counts)"
   ]
  },
  {
   "cell_type": "markdown",
   "metadata": {},
   "source": [
    "Set paths and columns of config document"
   ]
  },
  {
   "cell_type": "code",
   "execution_count": 3,
   "metadata": {
    "pycharm": {
     "is_executing": false,
     "name": "#%%\n"
    }
   },
   "outputs": [
    {
     "name": "stdout",
     "output_type": "stream",
     "text": [
      "Index(['#', 'Category', '1 portion refers to', 'Std “meals’', 'Std “other”',\n",
      "       'meals_int', 'other_int'],\n",
      "      dtype='object')\n"
     ]
    }
   ],
   "source": [
    "path_config = '../resources/config/binge_config.xlsx'\n",
    "\n",
    "df_config = pd.read_excel(path_config)\n",
    "print(df_config.columns)"
   ]
  },
  {
   "cell_type": "markdown",
   "metadata": {},
   "source": [
    "Set paths and columns for result document"
   ]
  },
  {
   "cell_type": "code",
   "execution_count": 4,
   "metadata": {
    "pycharm": {
     "is_executing": false,
     "name": "#%%\n"
    }
   },
   "outputs": [],
   "source": [
    "column_objective_binge = 'objective_binge'  \n",
    "col_no_loc_no_sub_binge_verify = 'no_loc_no_sub_binge_verify'\n",
    "path_out = '../resources/data_ignored/report.merged-vj-binge.xlsx'"
   ]
  },
  {
   "cell_type": "markdown",
   "metadata": {},
   "source": [
    "Classification methods"
   ]
  },
  {
   "cell_type": "code",
   "execution_count": 5,
   "metadata": {
    "pycharm": {
     "is_executing": false,
     "name": "#%%\n"
    }
   },
   "outputs": [],
   "source": [
    "def isNaN(num):\n",
    "    return num != num\n",
    "\n",
    "def get_binge_value(row, category_number):\n",
    "    if row[col_name_pre_type] in pre_type_category_other:\n",
    "        col_name_bing_int = 'other_int'\n",
    "    else:\n",
    "        col_name_bing_int = 'meals_int'\n",
    "    return df_config.loc[df_config['#'] == category_number, col_name_bing_int].item()\n",
    "\n",
    "def objective_binge(row):\n",
    "    if isNaN(row[col_name_post_instance_key]):\n",
    "        return \"IGNORE_POST_INSTANCE_MISSING\"\n",
    "    if row[col_name_post_loc] != loc_true:\n",
    "        return \"IGNORE_POST_LOC_FALSE\"\n",
    "    if row[col_post_sub_binge] != sub_binge_true:\n",
    "        return \"IGNORE_POST_SUB_BINGE_FALSE\"\n",
    "    for x in range(24):\n",
    "        category_number = x + 1\n",
    "        col_name_post_intake_por = 'POST_INTAKE_POR_'+str(category_number)\n",
    "        if not isNaN(row[col_name_post_intake_por]):\n",
    "            value = row[col_name_post_intake_por]\n",
    "            binge_value = get_binge_value(row, category_number)\n",
    "            if value > binge_value:\n",
    "                return True\n",
    "            else:\n",
    "                return False\n",
    "    return \"NO_PORTION\"\n",
    "\n",
    "def no_loc_no_sub_binge_verify(row):\n",
    "    if isNaN(row[col_name_post_instance_key]):\n",
    "        return \"IGNORE_POST_INSTANCE_MISSING\"\n",
    "    if row[col_name_post_loc] == loc_true:\n",
    "        return \"IGNORE_POST_LOC_TRUE\"\n",
    "    if row[col_post_sub_binge] == sub_binge_true:\n",
    "        return \"IGNORE_POST_SUB_BINGE_TRUE\"\n",
    "    for x in range(24):\n",
    "        category_number = x + 1\n",
    "        col_name_post_intake_por = 'POST_INTAKE_POR_'+str(category_number)\n",
    "        if not isNaN(row[col_name_post_intake_por]):\n",
    "            value = row[col_name_post_intake_por]\n",
    "            binge_value = get_binge_value(row, category_number)\n",
    "            if value > binge_value:\n",
    "                return True\n",
    "            else:\n",
    "                return False\n",
    "    return \"NO_PORTION\"\n"
   ]
  },
  {
   "cell_type": "markdown",
   "metadata": {},
   "source": [
    "Preform classification and write results"
   ]
  },
  {
   "cell_type": "code",
   "execution_count": null,
   "metadata": {
    "pycharm": {
     "is_executing": false,
     "name": "#%%\n"
    }
   },
   "outputs": [],
   "source": [
    "df[column_objective_binge] = df.apply(objective_binge, axis=1)\n",
    "df[col_no_loc_no_sub_binge_verify] = df.apply(no_loc_no_sub_binge_verify, axis=1)\n",
    "\n",
    "column_objective_binge_counts = df[column_objective_binge].value_counts()\n",
    "print('total PRE entries', len(df.index))\n",
    "print(column_objective_binge) \n",
    "print(column_objective_binge_counts)\n",
    "\n",
    "col_no_loc_no_sub_binge_verify_counts = df[col_no_loc_no_sub_binge_verify].value_counts()\n",
    "print(col_no_loc_no_sub_binge_verify) \n",
    "print(col_no_loc_no_sub_binge_verify_counts)\n",
    "\n",
    "print('writing result')\n",
    "df.to_excel(path_out)\n",
    "print('done!')\n"
   ]
  }
 ],
 "metadata": {
  "kernelspec": {
   "display_name": "Python 3",
   "language": "python",
   "name": "python3"
  },
  "language_info": {
   "codemirror_mode": {
    "name": "ipython",
    "version": 3
   },
   "file_extension": ".py",
   "mimetype": "text/x-python",
   "name": "python",
   "nbconvert_exporter": "python",
   "pygments_lexer": "ipython3",
   "version": "3.7.6"
  },
  "pycharm": {
   "stem_cell": {
    "cell_type": "raw",
    "metadata": {
     "collapsed": false
    },
    "source": []
   }
  }
 },
 "nbformat": 4,
 "nbformat_minor": 1
}
