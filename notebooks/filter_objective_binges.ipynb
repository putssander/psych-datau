{
 "cells": [
  {
   "cell_type": "markdown",
   "metadata": {
    "pycharm": {
     "name": "#%% md\n"
    }
   },
   "source": [
    "# Objective Binge Classifier #"
   ]
  },
  {
   "cell_type": "markdown",
   "metadata": {},
   "source": [
    "Import dependencies"
   ]
  },
  {
   "cell_type": "code",
   "execution_count": null,
   "metadata": {},
   "outputs": [],
   "source": [
    "!pip install openpyxl\n",
    "import pandas as pd"
   ]
  },
  {
   "cell_type": "markdown",
   "metadata": {},
   "source": [
    "Set paths and columns of response document"
   ]
  },
  {
   "cell_type": "code",
   "execution_count": null,
   "metadata": {
    "pycharm": {
     "is_executing": false,
     "name": "#%%\n"
    }
   },
   "outputs": [],
   "source": [
    "path_in = '../resources/data_ignored/report.merged-vj-unfiltered.xlsx'\n",
    "df = pd.read_excel(path_in)\n",
    "\n",
    "col_name_post_instance_key = 'POST_instance_key'\n",
    "col_name_post_loc = 'POST_LOC' # Self-reported Loss Of Control\n",
    "col_name_pre_type = 'PRE_TYPE'\n",
    "col_post_sub_binge = 'POST_SUB_BINGE'\n",
    "\n",
    "loc_true = 1 # Self-reported Loss Of Control required value\n",
    "sub_binge_true = 1 # Subjective Binge required value\n",
    "pre_type_category_other = ['Anders']\n",
    "\n",
    "columns_type_counts = df[col_name_pre_type].value_counts()\n",
    "print('counts', columns_type_counts)"
   ]
  },
  {
   "cell_type": "markdown",
   "metadata": {},
   "source": [
    "Set paths and columns of config document"
   ]
  },
  {
   "cell_type": "code",
   "execution_count": null,
   "metadata": {
    "pycharm": {
     "is_executing": false,
     "name": "#%%\n"
    }
   },
   "outputs": [],
   "source": [
    "path_config = '../resources/config/binge_config.xlsx'\n",
    "\n",
    "df_config = pd.read_excel(path_config)\n",
    "print(df_config.columns)"
   ]
  },
  {
   "cell_type": "markdown",
   "metadata": {},
   "source": [
    "Set paths and columns for result document"
   ]
  },
  {
   "cell_type": "code",
   "execution_count": null,
   "metadata": {
    "pycharm": {
     "is_executing": false,
     "name": "#%%\n"
    }
   },
   "outputs": [],
   "source": [
    "column_objective_binge = 'objective_binge'            \n",
    "path_out = '../resources/data_ignored/report.merged-vj-binge.xlsx'"
   ]
  },
  {
   "cell_type": "markdown",
   "metadata": {},
   "source": [
    "Classification methods"
   ]
  },
  {
   "cell_type": "code",
   "execution_count": null,
   "metadata": {
    "pycharm": {
     "is_executing": false,
     "name": "#%%\n"
    }
   },
   "outputs": [],
   "source": [
    "def isNaN(num):\n",
    "    return num != num\n",
    "\n",
    "def get_binge_value(row, category_number):\n",
    "    if row[col_name_pre_type] in pre_type_category_other:\n",
    "        col_name_bing_int = 'other_int'\n",
    "    else:\n",
    "        col_name_bing_int = 'meals_int'\n",
    "    return df_config.loc[df_config['#'] == category_number, col_name_bing_int].item()\n",
    "\n",
    "def objective_binge(row):\n",
    "    if isNaN(row[col_name_post_instance_key]):\n",
    "        return \"IGNORE_POST_INSTANCE_MISSING\"\n",
    "    if row[col_name_post_loc] != loc_true:\n",
    "        return \"IGNORE_POST_LOC_FALSE\"\n",
    "    if row[col_post_sub_binge] != sub_binge_true:\n",
    "        return \"IGNORE_POST_SUB_BINGE_FALSE\"\n",
    "    for x in range(24):\n",
    "        category_number = x + 1\n",
    "        col_name_post_intake_por = 'POST_INTAKE_POR_'+str(category_number)\n",
    "        if not isNaN(row[col_name_post_intake_por]):\n",
    "            value = row[col_name_post_intake_por]\n",
    "            binge_value = get_binge_value(row, category_number)\n",
    "            if value > binge_value:\n",
    "                return True\n",
    "            else:\n",
    "                return False\n",
    "    return \"NO_PORTION\"\n"
   ]
  },
  {
   "cell_type": "markdown",
   "metadata": {},
   "source": [
    "Preform classification and write results"
   ]
  },
  {
   "cell_type": "code",
   "execution_count": null,
   "metadata": {
    "pycharm": {
     "is_executing": false,
     "name": "#%%\n"
    }
   },
   "outputs": [],
   "source": [
    "df[column_objective_binge] = df.apply(objective_binge, axis=1)\n",
    "\n",
    "column_objective_binge_counts = df[column_objective_binge].value_counts()\n",
    "print('total PRE entries', len(df.index))\n",
    "print(column_objective_binge) \n",
    "print(column_objective_binge_counts)\n",
    "\n",
    "print('writing result')\n",
    "df.to_excel(path_out)\n",
    "print('done!')"
   ]
  },
  {
   "cell_type": "code",
   "execution_count": null,
   "metadata": {},
   "outputs": [],
   "source": []
  }
 ],
 "metadata": {
  "kernelspec": {
   "display_name": "Python 3",
   "language": "python",
   "name": "python3"
  },
  "language_info": {
   "codemirror_mode": {
    "name": "ipython",
    "version": 3
   },
   "file_extension": ".py",
   "mimetype": "text/x-python",
   "name": "python",
   "nbconvert_exporter": "python",
   "pygments_lexer": "ipython3",
   "version": "3.7.6"
  },
  "pycharm": {
   "stem_cell": {
    "cell_type": "raw",
    "metadata": {
     "collapsed": false
    },
    "source": []
   }
  }
 },
 "nbformat": 4,
 "nbformat_minor": 1
}
