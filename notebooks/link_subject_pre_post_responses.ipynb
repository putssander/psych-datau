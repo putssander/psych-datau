{
 "cells": [
  {
   "cell_type": "markdown",
   "metadata": {
    "pycharm": {
     "name": "#%% md\n"
    }
   },
   "source": [
    "# Link Subject Pre to Post Responses #"
   ]
  },
  {
   "cell_type": "markdown",
   "metadata": {
    "pycharm": {
     "name": "#%% md\n"
    }
   },
   "source": [
    "Set paths and columns.\n",
    "\n",
    "Tip! copy files into the directory './../resources/data_ignored/' (relative to this path)"
   ]
  },
  {
   "cell_type": "code",
   "execution_count": null,
   "metadata": {
    "pycharm": {
     "is_executing": false,
     "name": "#%%\n"
    }
   },
   "outputs": [],
   "source": [
    "col_subject_id = 'subject_id'\n",
    "col_timestamp = 'timestamp'\n",
    "\n",
    "path_in_pre = './../resources/data_ignored/report.3559000.14321-5_pre.csv'\n",
    "path_in_post = './../resources/data_ignored/report.3694000.14321-7_post.csv'\n",
    "\n",
    "# the results will be written to the following files\n",
    "path_out_link_column = './../resources/data_ignored/report.link.xlsx'\n",
    "path_out_merged = './../resources/data_ignored/report.merged-vj-unfiltered.xlsx'"
   ]
  },
  {
   "cell_type": "markdown",
   "metadata": {
    "pycharm": {
     "name": "#%% md\n"
    }
   },
   "source": [
    "Install dependencies and import the nlp_datau package"
   ]
  },
  {
   "cell_type": "code",
   "execution_count": null,
   "metadata": {
    "pycharm": {
     "is_executing": false,
     "name": "#%%\n"
    }
   },
   "outputs": [],
   "source": [
    "!pip install -r ./../requirements.txt\n",
    "import sys\n",
    "sys.path.append(\"./../\")\n"
   ]
  },
  {
   "cell_type": "markdown",
   "metadata": {
    "pycharm": {
     "name": "#%% md\n"
    }
   },
   "source": [
    "Link and write the output files"
   ]
  },
  {
   "cell_type": "code",
   "execution_count": 4,
   "metadata": {
    "pycharm": {
     "is_executing": false,
     "name": "#%% \n"
    }
   },
   "outputs": [
    {
     "name": "stdout",
     "output_type": "stream",
     "text": [
      "done!\n"
     ]
    }
   ],
   "source": [
    "from psych_datau.link_subject_pre_post_responses import link_pre_post_responses\n",
    "\n",
    "linked, merged = link_pre_post_responses(path_in_pre, path_in_post, col_subject_id, col_timestamp)\n",
    "linked.to_excel(path_out_link_column)\n",
    "merged.to_excel(path_out_merged)\n",
    "\n",
    "print(\"done!\")"
   ]
  },
  {
   "cell_type": "code",
   "execution_count": null,
   "outputs": [],
   "source": [],
   "metadata": {
    "collapsed": false,
    "pycharm": {
     "name": "#%%\n"
    }
   }
  },
  {
   "cell_type": "code",
   "execution_count": null,
   "metadata": {},
   "outputs": [],
   "source": []
  }
 ],
 "metadata": {
  "kernelspec": {
   "display_name": "Python 3",
   "language": "python",
   "name": "python3"
  },
  "language_info": {
   "codemirror_mode": {
    "name": "ipython",
    "version": 3
   },
   "file_extension": ".py",
   "mimetype": "text/x-python",
   "name": "python",
   "nbconvert_exporter": "python",
   "pygments_lexer": "ipython3",
   "version": "3.7.6"
  },
  "pycharm": {
   "stem_cell": {
    "cell_type": "raw",
    "source": [],
    "metadata": {
     "collapsed": false
    }
   }
  }
 },
 "nbformat": 4,
 "nbformat_minor": 1
}