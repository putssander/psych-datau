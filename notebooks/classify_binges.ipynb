{
 "cells": [
  {
   "cell_type": "markdown",
   "metadata": {
    "pycharm": {
     "name": "#%% md\n"
    }
   },
   "source": [
    "# Objective Binge Classifier #"
   ]
  },
  {
   "cell_type": "markdown",
   "metadata": {},
   "source": [
    "Import dependencies"
   ]
  },
  {
   "cell_type": "code",
   "execution_count": null,
   "metadata": {
    "pycharm": {
     "is_executing": false
    }
   },
   "outputs": [],
   "source": [
    "!pip install openpyxl\n",
    "import pandas as pd\n",
    "import json"
   ]
  },
  {
   "cell_type": "markdown",
   "metadata": {},
   "source": [
    "Set paths and columns of response document"
   ]
  },
  {
   "cell_type": "code",
   "execution_count": null,
   "metadata": {
    "pycharm": {
     "is_executing": false,
     "name": "#%%\n"
    }
   },
   "outputs": [],
   "source": [
    "work_dir = '../resources/data_ignored/'\n",
    "input_file = work_dir + 'merged_unfiltered.xlsx'\n",
    "output_file = work_dir + 'binge_classifier_out.xlsx'\n",
    "output_file_raters = work_dir + 'binge_classifier_rates_out.xlsx'\n",
    "output_file_food_intake = work_dir + 'binge_classifier_food_intake.xlsx'\n",
    "\n",
    "\n",
    "\n",
    "df = pd.read_excel(input_file)\n",
    "\n",
    "col_name_post_instance_key = 'POST_instance_key'\n",
    "col_name_post_loc = 'POST_LOC' # Self-reported Loss Of Control\n",
    "col_name_pre_type = 'PRE_TYPE'\n",
    "col_post_sub_binge = 'POST_SUB_BINGE'\n",
    "\n",
    "text_export = False # is data exported in text representation?\n",
    "\n",
    "# 0 no\n",
    "# 1 yes\n",
    "# 2 na\n",
    "loc_true = 1 # Self-reported Loss Of Control required value\n",
    "\n",
    "# 0 no\n",
    "# 1 yes\n",
    "# 2 na\n",
    "sub_binge_true = 1 # Subjective Binge required value\n",
    "\n",
    "# 1 ontbijt\n",
    "# 2 lunch\n",
    "# 3 diner\n",
    "# 4 anders\n",
    "pre_type_category_other = ['Anders']\n",
    "if not text_export:\n",
    "    pre_type_category_other = [4]\n",
    "\n",
    "\n",
    "columns_type_counts = df[col_name_pre_type].value_counts()\n",
    "print('counts', columns_type_counts)"
   ]
  },
  {
   "cell_type": "markdown",
   "metadata": {},
   "source": [
    "Set paths and columns of config document which included portion sizes"
   ]
  },
  {
   "cell_type": "code",
   "execution_count": null,
   "metadata": {
    "pycharm": {
     "is_executing": false,
     "name": "#%%\n"
    }
   },
   "outputs": [],
   "source": [
    "path_config = '../resources/config/binge_config.xlsx'\n",
    "\n",
    "df_config = pd.read_excel(path_config)\n",
    "print(df_config.columns)"
   ]
  },
  {
   "cell_type": "markdown",
   "metadata": {},
   "source": [
    "Set paths and columns for result document"
   ]
  },
  {
   "cell_type": "code",
   "execution_count": null,
   "metadata": {
    "pycharm": {
     "is_executing": false,
     "name": "#%%\n"
    }
   },
   "outputs": [],
   "source": [
    "col_objective_binge = 'objective_binge'  \n",
    "col_subjective_binge = 'subjective_binge' \n",
    "col_no_loc_no_sub_binge_verify = 'no_loc_no_sub_binge_verify'\n",
    "col_loc_verify = 'loc_verify'\n",
    "col_no_binge = 'no_binge'\n",
    "col_food_intake = 'food_intake'"
   ]
  },
  {
   "cell_type": "markdown",
   "metadata": {
    "pycharm": {
     "name": "#%% md\n"
    }
   },
   "source": [
    "Classification methods"
   ]
  },
  {
   "cell_type": "code",
   "execution_count": null,
   "metadata": {},
   "outputs": [],
   "source": [
    "# helper methods\n",
    "\n",
    "def isNaN(num):\n",
    "    return num != num\n",
    "\n",
    "def get_food_cat_config_value(col_name, category_number):\n",
    "    return df_config.loc[df_config['#'] == category_number, col_name].item()\n",
    "\n",
    "def is_value_exceeding_threshold(row, col_name, threshold):\n",
    "    value = row[col_name]\n",
    "    if value > threshold:\n",
    "        return True\n",
    "    else:\n",
    "        return False"
   ]
  },
  {
   "cell_type": "code",
   "execution_count": null,
   "metadata": {
    "pycharm": {
     "name": "#%%\n"
    }
   },
   "outputs": [],
   "source": [
    "\n",
    "def get_binge_value(row, category_number):\n",
    "    \"\"\"\n",
    "    get binge value based on eating moment\n",
    "    :param row: data row\n",
    "    :param category_number: food cat number\n",
    "    :return: binge value\n",
    "    \"\"\"\n",
    "    if row[col_name_pre_type] in pre_type_category_other:\n",
    "        col_name_bing_int = 'other_int'\n",
    "    else:\n",
    "        col_name_bing_int = 'meals_int'\n",
    "    return df_config.loc[df_config['#'] == category_number, col_name_bing_int].item()\n",
    "\n",
    "\n",
    "def get_factor_value(row, category_number):\n",
    "    if row[col_name_pre_type] in pre_type_category_other:\n",
    "        col_name_bing_int = 'other_factor'\n",
    "    else:\n",
    "        col_name_bing_int = 'meals_factor'\n",
    "    return df_config.loc[df_config['#'] == category_number, col_name_bing_int].item()\n",
    "\n",
    "\n",
    "def is_objective_binge(row):\n",
    "    \"\"\"\n",
    "    Determine if an eating moment is an binge based on:\n",
    "        post data\n",
    "        loss of control is true\n",
    "        subjective binge is true\n",
    "        exceeding normal portion size as defined in configuration file\n",
    "    :param row: data row\n",
    "    :return:\n",
    "    True: if an object binge\n",
    "    False: if no objective binge\n",
    "    String: reason why object binge could not be determined\n",
    "    \"\"\"\n",
    "    if isNaN(row[col_name_post_instance_key]):\n",
    "        return \"IGNORE_POST_INSTANCE_MISSING\"\n",
    "    if row[col_name_post_loc] != loc_true:\n",
    "        return \"IGNORE_POST_LOC_FALSE\"\n",
    "    if row[col_post_sub_binge] != sub_binge_true:\n",
    "        return \"IGNORE_POST_SUB_BINGE_FALSE\"\n",
    "    for x in range(24):\n",
    "        category_number = x + 1\n",
    "        col_name_post_intake_por = 'POST_INTAKE_POR_'+str(category_number)\n",
    "        if not isNaN(row[col_name_post_intake_por]):\n",
    "            value = row[col_name_post_intake_por]\n",
    "            binge_value = get_binge_value(row, category_number)\n",
    "            if value > binge_value:\n",
    "                return True\n",
    "            else:\n",
    "                return False\n",
    "    return \"NO_PORTION\"\n",
    "\n",
    "\n",
    "def get_objective_binge_normalized_value(row):\n",
    "    normalized_value = 0\n",
    "    if isNaN(row[col_name_post_instance_key]):\n",
    "        return -1\n",
    "    if row[col_name_post_loc] != loc_true:\n",
    "        return -1\n",
    "    if row[col_post_sub_binge] != sub_binge_true:\n",
    "        return -1\n",
    "    for x in range(24):\n",
    "        category_number = x + 1\n",
    "        col_name_post_intake_por = 'POST_INTAKE_POR_'+str(category_number)\n",
    "        if not isNaN(row[col_name_post_intake_por]):\n",
    "            portions = row[col_name_post_intake_por]\n",
    "            max_normal_portion_size = get_binge_value(row, category_number)\n",
    "            if max_normal_portion_size != 0:\n",
    "                normalized_portion_factor = 1 / max_normal_portion_size\n",
    "            else:\n",
    "                # when 0 allowed it should exceed threshold\n",
    "                normalized_portion_factor = 2 \n",
    "            current = portions * normalized_portion_factor\n",
    "            normalized_value = normalized_value + current\n",
    "    return normalized_value\n",
    "\n",
    "\n",
    "def get_objective_binge_normalized_manual_value(row):\n",
    "    normalized_value = 0\n",
    "    if isNaN(row[col_name_post_instance_key]):\n",
    "        return -1\n",
    "    if row[col_name_post_loc] != loc_true:\n",
    "        return -1\n",
    "    if row[col_post_sub_binge] != sub_binge_true:\n",
    "        return -1\n",
    "    for x in range(24):\n",
    "        category_number = x + 1\n",
    "        col_name_post_intake_por = 'POST_INTAKE_POR_'+str(category_number)\n",
    "        if not isNaN(row[col_name_post_intake_por]):\n",
    "            portions = row[col_name_post_intake_por]\n",
    "            factor_value = get_factor_value(row, category_number)\n",
    "            current = portions * factor_value\n",
    "            normalized_value = normalized_value + current\n",
    "    return normalized_value\n",
    "\n",
    "\n",
    "binge_calories_threshold = 1000\n",
    "def get_objective_binge_calories(row):\n",
    "    total_calories = 0\n",
    "    if isNaN(row[col_name_post_instance_key]):\n",
    "        return -1\n",
    "    if row[col_name_post_loc] != loc_true:\n",
    "        return -1\n",
    "    if row[col_post_sub_binge] != sub_binge_true:\n",
    "        return -1\n",
    "    for x in range(24):\n",
    "        category_number = x + 1\n",
    "        col_name_post_intake_por = 'POST_INTAKE_POR_'+str(category_number)\n",
    "        if not isNaN(row[col_name_post_intake_por]):\n",
    "            portions = row[col_name_post_intake_por]\n",
    "            portion_calories = get_food_cat_config_value('calories', category_number)\n",
    "            current = portions * portion_calories\n",
    "            total_calories = total_calories + current\n",
    "    return total_calories\n",
    "\n",
    "\n",
    "def subjective_binge(row):\n",
    "    if isNaN(row[col_name_post_instance_key]):\n",
    "        return \"IGNORE_POST_INSTANCE_MISSING\"\n",
    "    if row[col_name_post_loc] != loc_true:\n",
    "        return \"IGNORE_POST_LOC_FALSE\"\n",
    "    if row[col_post_sub_binge] != sub_binge_true:\n",
    "        return \"IGNORE_POST_SUB_BINGE_FALSE\"\n",
    "    return True\n",
    "\n",
    "def no_loc_no_sub_binge_verify(row):\n",
    "    if isNaN(row[col_name_post_instance_key]):\n",
    "        return \"IGNORE_POST_INSTANCE_MISSING\"\n",
    "    if row[col_name_post_loc] == loc_true:\n",
    "        return \"IGNORE_POST_LOC_TRUE\"\n",
    "    if row[col_post_sub_binge] == sub_binge_true:\n",
    "        return \"IGNORE_POST_SUB_BINGE_TRUE\"\n",
    "    for x in range(24):\n",
    "        category_number = x + 1\n",
    "        col_name_post_intake_por = 'POST_INTAKE_POR_'+str(category_number)\n",
    "        if not isNaN(row[col_name_post_intake_por]):\n",
    "            value = row[col_name_post_intake_por]\n",
    "            binge_value = get_binge_value(row, category_number)\n",
    "            if value > binge_value:\n",
    "                return True\n",
    "            else:\n",
    "                return False\n",
    "    return \"NO_PORTION\"\n",
    "\n",
    "def loc_binge_verify(row):\n",
    "    if isNaN(row[col_name_post_instance_key]):\n",
    "        return \"IGNORE_POST_INSTANCE_MISSING\"\n",
    "    if row[col_name_post_loc] != loc_true:\n",
    "        return \"IGNORE_POST_LOC_FALSE\"\n",
    "    for x in range(24):\n",
    "        category_number = x + 1\n",
    "        col_name_post_intake_por = 'POST_INTAKE_POR_'+str(category_number)\n",
    "        if not isNaN(row[col_name_post_intake_por]):\n",
    "            value = row[col_name_post_intake_por]\n",
    "            binge_value = get_binge_value(row, category_number)\n",
    "            if value > binge_value:\n",
    "                return True\n",
    "            else:\n",
    "                return False\n",
    "    return \"NO_PORTION\"\n",
    "\n",
    "def no_binge(row):\n",
    "    if isNaN(row[col_name_post_instance_key]):\n",
    "        return \"IGNORE_POST_INSTANCE_MISSING\"\n",
    "    if row[col_name_post_loc] == loc_true:\n",
    "        return False\n",
    "    if row[col_post_sub_binge] == sub_binge_true:\n",
    "        return False\n",
    "    return True\n",
    "\n",
    "def get_food_intake(row):\n",
    "    intake_list = []\n",
    "    for x in range(24):\n",
    "        category_number = x + 1\n",
    "        col_name_post_intake_por = 'POST_INTAKE_POR_'+str(category_number)\n",
    "        if not isNaN(row[col_name_post_intake_por]):\n",
    "            value = row[col_name_post_intake_por]\n",
    "            binge_value = get_binge_value(row, category_number)\n",
    "            if value > binge_value:\n",
    "                intake = { \"category_number\": category_number, \"intake_por\": binge_value }\n",
    "                intake_list.append(intake)\n",
    "            else:\n",
    "                continue\n",
    "    return json.dumps(intake_list)"
   ]
  },
  {
   "cell_type": "markdown",
   "metadata": {
    "pycharm": {
     "is_executing": false,
     "name": "#%%\n"
    }
   },
   "source": [
    "Preform classification and write results!"
   ]
  },
  {
   "cell_type": "code",
   "execution_count": null,
   "metadata": {},
   "outputs": [],
   "source": [
    "df[col_objective_binge] = df.apply(is_objective_binge, axis=1)\n",
    "df['objective_binge_normalized_value'] = df.apply(get_objective_binge_normalized_value, axis=1)\n",
    "df['objective_binge_factor_normalized_value'] = df.apply(get_objective_binge_normalized_manual_value, axis=1)\n",
    "df['objective_binge_calories_value'] = df.apply(get_objective_binge_calories, axis=1)\n",
    "\n",
    "df['objective_binge_normalized'] = df.apply(is_value_exceeding_threshold, args=('objective_binge_normalized_value', 1), axis=1)\n",
    "df['objective_binge_factor_normalized'] = df.apply(is_value_exceeding_threshold, args=('objective_binge_factor_normalized_value', 1), axis=1)\n",
    "df['objective_binge_calories'] = df.apply(is_value_exceeding_threshold, args=('objective_binge_calories_value', 1000), axis=1)\n",
    "\n",
    "df[col_subjective_binge] = df.apply(subjective_binge, axis=1)\n",
    "df[col_loc_verify] = df.apply(loc_binge_verify, axis=1)\n",
    "df[col_no_loc_no_sub_binge_verify] = df.apply(no_loc_no_sub_binge_verify, axis=1)\n",
    "df[col_no_binge] = df.apply(no_binge, axis=1)\n",
    "df[col_food_intake] = df.apply(get_food_intake, axis=1)\n",
    "\n",
    "\n",
    "col_objective_binge_counts = df[col_objective_binge].value_counts()\n",
    "print('total PRE entries', len(df.index))\n",
    "print(col_objective_binge) \n",
    "print(col_objective_binge_counts)\n",
    "\n",
    "print(\"---\")\n",
    "col_loc_verify_counts = df[col_loc_verify].value_counts()\n",
    "print(col_loc_verify) \n",
    "print(col_loc_verify_counts)\n",
    "\n",
    "print(\"---\")\n",
    "col_no_loc_no_sub_binge_verify_counts = df[col_no_loc_no_sub_binge_verify].value_counts()\n",
    "print(col_no_loc_no_sub_binge_verify) \n",
    "print(col_no_loc_no_sub_binge_verify_counts)\n"
   ]
  },
  {
   "cell_type": "markdown",
   "metadata": {
    "pycharm": {
     "is_executing": false,
     "name": "#%% md\n"
    }
   },
   "source": [
    "Prepare dataset for labelling of objective binges and normal eating moments"
   ]
  },
  {
   "cell_type": "code",
   "execution_count": null,
   "metadata": {
    "pycharm": {
     "name": "#%%\n"
    }
   },
   "outputs": [],
   "source": [
    "objective_df = df[df[col_objective_binge] == True]\n",
    "no_binge = df[df[col_no_binge] == True]\n",
    "\n",
    "obj_binge_count = len(objective_df.index)\n",
    "print('objective binge entries', obj_binge_count)\n",
    "print('no binge', len(no_binge.index))\n",
    "\n",
    "no_binge_sample = no_binge.sample(n=obj_binge_count) #equal sample size\n",
    "\n",
    "df_to_label = pd.concat([objective_df, no_binge_sample])\n",
    "df_to_label = df_to_label[['instance_key_x','PRE_COGN']].sample(frac=1) #shuffle                   \n"
   ]
  },
  {
   "cell_type": "markdown",
   "metadata": {
    "pycharm": {
     "is_executing": false
    }
   },
   "source": [
    "Write dataframes to excel"
   ]
  },
  {
   "cell_type": "markdown",
   "metadata": {},
   "source": [
    "Write dataframes to excel"
   ]
  },
  {
   "cell_type": "code",
   "execution_count": null,
   "metadata": {
    "pycharm": {
     "is_executing": false
    }
   },
   "outputs": [],
   "source": [
    "print('writing result')\n",
    "df.to_excel(output_file)\n",
    "df_to_label.to_excel(output_file_raters)\n"
   ]
  },
  {
   "cell_type": "code",
   "execution_count": null,
   "outputs": [],
   "source": [
    "print('writing food intake for subjective binges')\n",
    "df = df[df['POST_LOC'] == 1]\n",
    "df = df[df['POST_SUB_BINGE'] == 1]\n",
    "\n",
    "grouped = df.groupby('food_intake').count()\n",
    "grouped.to_excel(output_file_food_intake)\n",
    "\n"
   ],
   "metadata": {
    "collapsed": false,
    "pycharm": {
     "name": "#%%\n"
    }
   }
  },
  {
   "cell_type": "code",
   "execution_count": null,
   "metadata": {},
   "outputs": [],
   "source": []
  },
  {
   "cell_type": "code",
   "execution_count": null,
   "metadata": {},
   "outputs": [],
   "source": []
  }
 ],
 "metadata": {
  "kernelspec": {
   "display_name": "Python 3",
   "language": "python",
   "name": "python3"
  },
  "language_info": {
   "codemirror_mode": {
    "name": "ipython",
    "version": 3
   },
   "file_extension": ".py",
   "mimetype": "text/x-python",
   "name": "python",
   "nbconvert_exporter": "python",
   "pygments_lexer": "ipython3",
   "version": "3.8.5"
  }
 },
 "nbformat": 4,
 "nbformat_minor": 1
}