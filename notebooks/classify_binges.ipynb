{
 "cells": [
  {
   "cell_type": "markdown",
   "source": [
    "# Objective Binge Classifier #"
   ],
   "metadata": {
    "collapsed": false
   }
  },
  {
   "cell_type": "markdown",
   "source": [
    "Import dependencies"
   ],
   "metadata": {
    "collapsed": false
   }
  },
  {
   "cell_type": "code",
   "execution_count": null,
   "outputs": [],
   "source": [
    "!pip install openpyxl\n",
    "import pandas as pd\n",
    "import json"
   ],
   "metadata": {
    "collapsed": false,
    "pycharm": {
     "name": "#%%\n"
    }
   }
  },
  {
   "cell_type": "markdown",
   "source": [
    "Set paths and response columns"
   ],
   "metadata": {
    "collapsed": false
   }
  },
  {
   "cell_type": "code",
   "execution_count": null,
   "outputs": [],
   "source": [
    "work_dir = '../resources/data_ignored/'\n",
    "input_file = work_dir + 'merged_unfiltered.xlsx'\n",
    "output_file = work_dir + 'binge_classifier_out.xlsx'\n",
    "output_file_raters = work_dir + 'binge_classifier_rates_out.xlsx'\n",
    "output_file_food_intake = work_dir + 'binge_classifier_food_intake.xlsx'\n",
    "\n",
    "df = pd.read_excel(input_file)\n",
    "\n",
    "col_name_post_instance_key = 'POST_instance_key'\n",
    "col_name_post_loc = 'POST_LOC' # Self-reported Loss Of Control\n",
    "col_name_pre_type = 'PRE_TYPE'\n",
    "col_post_sub_binge = 'POST_SUB_BINGE'\n",
    "\n",
    "text_export = False # is data exported in text representation?\n",
    "\n",
    "# 0 no\n",
    "# 1 yes\n",
    "# 2 na\n",
    "loc_true = 1 # Self-reported Loss Of Control required value\n",
    "\n",
    "# 0 no\n",
    "# 1 yes\n",
    "# 2 na\n",
    "sub_binge_true = 1 # Subjective Binge required value\n",
    "\n",
    "# 1 ontbijt\n",
    "# 2 lunch\n",
    "# 3 diner\n",
    "# 4 anders\n",
    "pre_type_category_other = ['Anders']\n",
    "if not text_export:\n",
    "    pre_type_category_other = [4]\n",
    "\n",
    "\n",
    "columns_type_counts = df[col_name_pre_type].value_counts()\n",
    "print('counts', columns_type_counts)"
   ],
   "metadata": {
    "collapsed": false,
    "pycharm": {
     "name": "#%%\n"
    }
   }
  },
  {
   "cell_type": "markdown",
   "source": [
    "Set paths and columns of config document which included portion sizes"
   ],
   "metadata": {
    "collapsed": false
   }
  },
  {
   "cell_type": "code",
   "execution_count": null,
   "outputs": [],
   "source": [
    "path_config = '../resources/config/binge_config.xlsx'\n",
    "\n",
    "df_config = pd.read_excel(path_config)\n",
    "print(df_config.columns)"
   ],
   "metadata": {
    "collapsed": false,
    "pycharm": {
     "name": "#%%\n"
    }
   }
  },
  {
   "cell_type": "markdown",
   "source": [
    "Set paths and columns for result document"
   ],
   "metadata": {
    "collapsed": false
   }
  },
  {
   "cell_type": "code",
   "execution_count": null,
   "outputs": [],
   "source": [],
   "metadata": {
    "collapsed": false,
    "pycharm": {
     "name": "#%%\n"
    }
   }
  },
  {
   "cell_type": "markdown",
   "source": [
    "Classification methods"
   ],
   "metadata": {
    "collapsed": false
   }
  },
  {
   "cell_type": "code",
   "execution_count": null,
   "outputs": [],
   "source": [
    "# helper methods\n",
    "\n",
    "def is_nan(num):\n",
    "    return num != num\n",
    "\n",
    "def get_food_cat_config_value(col_name, category_number):\n",
    "    return df_config.loc[df_config['#'] == category_number, col_name].item()\n",
    "\n",
    "def is_value_exceeding_threshold(row, col_name, threshold):\n",
    "    value = row[col_name]\n",
    "    if isinstance(value, str):\n",
    "        return 0\n",
    "    if value > threshold:\n",
    "        return 1\n",
    "    else:\n",
    "        return 0"
   ],
   "metadata": {
    "collapsed": false,
    "pycharm": {
     "name": "#%%\n"
    }
   }
  },
  {
   "cell_type": "markdown",
   "source": [
    "Methods to determine valid binge instance\n",
    "To be a valid instance, a row needs a post instance, loss of control, subjective binge and portion size"
   ],
   "metadata": {
    "collapsed": false
   }
  },
  {
   "cell_type": "code",
   "execution_count": null,
   "outputs": [],
   "source": [
    "def is_subj_binge_instance(row):\n",
    "    if is_nan(row[col_name_post_instance_key]):\n",
    "        return \"POST_INSTANCE_MISSING\"\n",
    "    if row[col_name_post_loc] != loc_true:\n",
    "        return \"POST_LOC_FALSE\"\n",
    "    if row[col_post_sub_binge] != sub_binge_true:\n",
    "        return \"POST_SUB_BINGE_FALSE\"\n",
    "    for x in range(24):\n",
    "        category_number = x + 1\n",
    "        col_name_post_intake_por = 'POST_INTAKE_POR_'+str(category_number)\n",
    "        if not is_nan(row[col_name_post_intake_por]):\n",
    "            return 'SUBJ_BINGE'\n",
    "    return \"NO_PORTION\""
   ],
   "metadata": {
    "collapsed": false,
    "pycharm": {
     "name": "#%%\n"
    }
   }
  },
  {
   "cell_type": "markdown",
   "source": [
    "Count valid subjective binge instances"
   ],
   "metadata": {
    "collapsed": false
   }
  },
  {
   "cell_type": "code",
   "execution_count": null,
   "outputs": [],
   "source": [
    "print('total instances', df['instance_key_x'].count())\n",
    "\n",
    "df['subj_binge_instance'] = df.apply(is_subj_binge_instance, axis=1)\n",
    "print('subj_binge_instance value count')\n",
    "print(df['subj_binge_instance'].value_counts())\n"
   ],
   "metadata": {
    "collapsed": false,
    "pycharm": {
     "name": "#%%\n"
    }
   }
  },
  {
   "cell_type": "markdown",
   "source": [
    "Method 1: determine objective binge by single category portions"
   ],
   "metadata": {
    "collapsed": false
   }
  },
  {
   "cell_type": "code",
   "execution_count": null,
   "outputs": [],
   "source": [
    "def get_binge_value(row, category_number):\n",
    "    if row[col_name_pre_type] in pre_type_category_other:\n",
    "        col_name_bing_int = 'other_int'\n",
    "    else:\n",
    "        col_name_bing_int = 'meals_int'\n",
    "    return df_config.loc[df_config['#'] == category_number, col_name_bing_int].item()\n",
    "\n",
    "def is_objective_binge_by_single_category(row):\n",
    "    if row['subj_binge_instance'] != 'SUBJ_BINGE':\n",
    "        return 0\n",
    "    for x in range(24):\n",
    "        category_number = x + 1\n",
    "        col_name_post_intake_por = 'POST_INTAKE_POR_'+str(category_number)\n",
    "        if not is_nan(row[col_name_post_intake_por]):\n",
    "            value = row[col_name_post_intake_por]\n",
    "            binge_value = get_binge_value(row, category_number)\n",
    "            if value > binge_value:\n",
    "                return 0\n",
    "            else:\n",
    "                return 1"
   ],
   "metadata": {
    "collapsed": false,
    "pycharm": {
     "name": "#%%\n"
    }
   }
  },
  {
   "cell_type": "markdown",
   "source": [
    "Method 2: apply object binge by automatically normalize portion size,\n",
    "where 1 equals the max normal portion size"
   ],
   "metadata": {
    "collapsed": false
   }
  },
  {
   "cell_type": "code",
   "execution_count": null,
   "outputs": [],
   "source": [
    "def get_objective_binge_normalized_value(row):\n",
    "    normalized_value = 0\n",
    "    if row['subj_binge_instance'] != 'SUBJ_BINGE':\n",
    "        return ''\n",
    "    for x in range(24):\n",
    "        category_number = x + 1\n",
    "        col_name_post_intake_por = 'POST_INTAKE_POR_'+str(category_number)\n",
    "        if not is_nan(row[col_name_post_intake_por]):\n",
    "            portions = row[col_name_post_intake_por]\n",
    "            max_normal_portion_size = get_binge_value(row, category_number)\n",
    "            if max_normal_portion_size == 0:\n",
    "                 # when 0 allowed it should exceed threshold\n",
    "                return 1001\n",
    "            else:\n",
    "                normalized_portion_factor = 1 / max_normal_portion_size\n",
    "                current = portions * normalized_portion_factor\n",
    "            normalized_value = normalized_value + current\n",
    "    return normalized_value"
   ],
   "metadata": {
    "collapsed": false,
    "pycharm": {
     "name": "#%%\n"
    }
   }
  },
  {
   "cell_type": "markdown",
   "source": [
    "Method 3: apply object binge by automatically normalize portion size,\n",
    "where 1 equals the max normal portion size"
   ],
   "metadata": {
    "collapsed": false
   }
  },
  {
   "cell_type": "code",
   "execution_count": null,
   "outputs": [],
   "source": [
    "def get_factor_value(row, category_number):\n",
    "    if row[col_name_pre_type] in pre_type_category_other:\n",
    "        col_name_bing_int = 'other_factor'\n",
    "    else:\n",
    "        col_name_bing_int = 'meals_factor'\n",
    "    return df_config.loc[df_config['#'] == category_number, col_name_bing_int].item()\n",
    "\n",
    "def get_objective_binge_normalized_manual_value(row):\n",
    "    normalized_value = 0\n",
    "    if row['subj_binge_instance'] != 'SUBJ_BINGE':\n",
    "        return ''\n",
    "    for x in range(24):\n",
    "        category_number = x + 1\n",
    "        col_name_post_intake_por = 'POST_INTAKE_POR_'+str(category_number)\n",
    "        if not is_nan(row[col_name_post_intake_por]):\n",
    "            portions = row[col_name_post_intake_por]\n",
    "            factor_value = get_factor_value(row, category_number)\n",
    "            current = portions * factor_value\n",
    "            normalized_value = normalized_value + current\n",
    "    return normalized_value"
   ],
   "metadata": {
    "collapsed": false,
    "pycharm": {
     "name": "#%%\n"
    }
   }
  },
  {
   "cell_type": "markdown",
   "source": [
    "Method 4: calories"
   ],
   "metadata": {
    "collapsed": false
   }
  },
  {
   "cell_type": "code",
   "execution_count": null,
   "outputs": [],
   "source": [
    "binge_calories_threshold = 1000\n",
    "def get_objective_binge_calories(row):\n",
    "    total_calories = 0\n",
    "    if row['subj_binge_instance'] != 'SUBJ_BINGE':\n",
    "        return ''\n",
    "    for x in range(24):\n",
    "        category_number = x + 1\n",
    "        col_name_post_intake_por = 'POST_INTAKE_POR_'+str(category_number)\n",
    "        if not is_nan(row[col_name_post_intake_por]):\n",
    "            portions = row[col_name_post_intake_por]\n",
    "            portion_calories = get_food_cat_config_value('calories', category_number)\n",
    "            current = portions * portion_calories\n",
    "            total_calories = total_calories + current\n",
    "    return total_calories\n"
   ],
   "metadata": {
    "collapsed": false,
    "pycharm": {
     "name": "#%%\n"
    }
   }
  },
  {
   "cell_type": "markdown",
   "source": [
    "Preform classifications"
   ],
   "metadata": {
    "collapsed": false
   }
  },
  {
   "cell_type": "code",
   "execution_count": null,
   "outputs": [],
   "source": [
    "# method 1 single category portions\n",
    "df['objective_binge_single_category'] = df.apply(is_objective_binge_by_single_category, axis=1)\n",
    "\n",
    "# method 2 normalized portions\n",
    "df['objective_binge_normalized_value'] = df.apply(get_objective_binge_normalized_value, axis=1)\n",
    "df['objective_binge_normalized'] = df.apply(is_value_exceeding_threshold, args=('objective_binge_normalized_value', 1), axis=1)\n",
    "\n",
    "# method 3 manually normalized portions\n",
    "df['objective_binge_factor_normalized_value'] = df.apply(get_objective_binge_normalized_manual_value, axis=1)\n",
    "df['objective_binge_factor_normalized'] = df.apply(is_value_exceeding_threshold, args=('objective_binge_factor_normalized_value', 1), axis=1)\n",
    "\n",
    "# method 4 calories\n",
    "df['objective_binge_calories_value'] = df.apply(get_objective_binge_calories, axis=1)\n",
    "df['objective_binge_calories'] = df.apply(is_value_exceeding_threshold, args=('objective_binge_calories_value', 1000), axis=1)"
   ],
   "metadata": {
    "collapsed": false,
    "pycharm": {
     "name": "#%%\n"
    }
   }
  },
  {
   "cell_type": "markdown",
   "source": [
    "Objective binge classification results"
   ],
   "metadata": {
    "collapsed": false
   }
  },
  {
   "cell_type": "code",
   "execution_count": null,
   "outputs": [],
   "source": [
    "print('subjective binges classified as objective binges')\n",
    "print('objective_binge_single_category')\n",
    "print(df['objective_binge_single_category'].value_counts())\n",
    "\n",
    "print('objective_binge_normalized')\n",
    "print(df['objective_binge_normalized'].value_counts())\n",
    "\n",
    "print('objective_binge_factor_normalized')\n",
    "print(df['objective_binge_factor_normalized'].value_counts())\n",
    "\n",
    "print('objective_binge_calories')\n",
    "print(df['objective_binge_calories'].value_counts())"
   ],
   "metadata": {
    "collapsed": false,
    "pycharm": {
     "name": "#%%\n"
    }
   }
  },
  {
   "cell_type": "markdown",
   "source": [
    "Method to write food intake to JSON format"
   ],
   "metadata": {
    "collapsed": false
   }
  },
  {
   "cell_type": "code",
   "execution_count": null,
   "outputs": [],
   "source": [
    "def get_food_intake(row):\n",
    "    intake_list = []\n",
    "    for x in range(24):\n",
    "        category_number = x + 1\n",
    "        col_name_post_intake_por = 'POST_INTAKE_POR_'+str(category_number)\n",
    "        if not is_nan(row[col_name_post_intake_por]):\n",
    "            value = row[col_name_post_intake_por]\n",
    "            intake = { \"category_number\": category_number, \"intake_por\": value }\n",
    "            intake_list.append(intake)\n",
    "        else:\n",
    "            continue\n",
    "    return json.dumps(intake_list)\n",
    "\n",
    "df['food_intake'] = df.apply(get_food_intake, axis=1)"
   ],
   "metadata": {
    "collapsed": false,
    "pycharm": {
     "name": "#%%\n"
    }
   }
  },
  {
   "cell_type": "markdown",
   "source": [
    "Prepare a dataset for labelling of objective binges and normal eating moments\n",
    "Select which classification result to use for objective binges"
   ],
   "metadata": {
    "collapsed": false
   }
  },
  {
   "cell_type": "code",
   "execution_count": null,
   "outputs": [],
   "source": [
    "col_objective_binge = 'objective_binge_single_category'\n",
    "objective_df = df[df[col_objective_binge] == 1]\n",
    "no_binge_df = df[df[col_post_sub_binge] == 0]\n",
    "\n",
    "obj_binge_count = len(objective_df.index)\n",
    "print('objective binge entries', obj_binge_count)\n",
    "print('no binge', len(no_binge_df.index))\n",
    "\n",
    "no_binge_sample = no_binge_df.sample(n=obj_binge_count) #equal sample size\n",
    "\n",
    "df_to_label = pd.concat([objective_df, no_binge_sample])\n",
    "df_to_label = df_to_label[['instance_key_x','PRE_COGN']].sample(frac=1) #shuffle"
   ],
   "metadata": {
    "collapsed": false,
    "pycharm": {
     "name": "#%%\n"
    }
   }
  },
  {
   "cell_type": "markdown",
   "source": [
    "Write dataframes to excel"
   ],
   "metadata": {
    "collapsed": false
   }
  },
  {
   "cell_type": "code",
   "execution_count": null,
   "outputs": [],
   "source": [
    "print('writing result')\n",
    "df.to_excel(output_file)\n",
    "df_to_label.to_excel(output_file_raters)\n"
   ],
   "metadata": {
    "collapsed": false,
    "pycharm": {
     "name": "#%%\n"
    }
   }
  },
  {
   "cell_type": "code",
   "execution_count": null,
   "outputs": [],
   "source": [
    "print('writing food intake for subjective binges')\n",
    "sub_df = df[df['subj_binge_instance'] == 'SUBJ_BINGE']\n",
    "print('subjective binges', len(sub_df.index))\n",
    "\n",
    "grouped = sub_df.groupby('food_intake').sum()[[\n",
    "                      'objective_binge_single_category',\n",
    "                      'objective_binge_normalized',\n",
    "                      'objective_binge_factor_normalized',\n",
    "                      'objective_binge_calories', 'POST_SUB_BINGE']]\n",
    "grouped.to_excel(output_file_food_intake)"
   ],
   "metadata": {
    "collapsed": false,
    "pycharm": {
     "name": "#%%\n"
    }
   }
  }
 ],
 "metadata": {
  "kernelspec": {
   "display_name": "Python 3",
   "language": "python",
   "name": "python3"
  },
  "language_info": {
   "codemirror_mode": {
    "name": "ipython",
    "version": 3
   },
   "file_extension": ".py",
   "mimetype": "text/x-python",
   "name": "python",
   "nbconvert_exporter": "python",
   "pygments_lexer": "ipython3",
   "version": "3.8.2"
  }
 },
 "nbformat": 4,
 "nbformat_minor": 1
}