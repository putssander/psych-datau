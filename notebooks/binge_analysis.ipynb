{
 "cells": [
  {
   "cell_type": "code",
   "execution_count": null,
   "metadata": {},
   "outputs": [],
   "source": [
    "!pip install openpyxl\n",
    "import pandas as pd\n",
    "\n",
    "path_in = \"./../resources/data_ignored/report.merged-sanne-binge_1705-out-congnitions-disfunctional.xlsx\"\n",
    "\n",
    "path_out = \"./../resources/data_ignored/report.merged-sanne-binge_1705-out-congnitions-disfunctional-out.xlsx\"\n",
    "path_out_sum = \"./../resources/data_ignored/report.merged-sanne-binge_1705-out-congnitions-disfunctional-sum.xlsx\"\n",
    "path_out_mean = \"./../resources/data_ignored/report.merged-sanne-binge_1705-out-congnitions-disfunctional-mean.xlsx\"\n",
    "path_out_size = \"./../resources/data_ignored/report.merged-sanne-binge_1705-out-congnitions-disfunctional-size.xlsx\"\n",
    "\n",
    "df = pd.read_excel(path_in)\n",
    "data_top = df.head()  \n",
    "    \n",
    "# display  \n",
    "print(data_top)  \n",
    "print(len(df.index))"
   ]
  },
  {
   "cell_type": "code",
   "execution_count": null,
   "metadata": {},
   "outputs": [],
   "source": [
    "df = pd.read_excel(path_in)\n",
    "\n",
    "#helper column\n",
    "df['sum'] = 1"
   ]
  },
  {
   "cell_type": "code",
   "execution_count": null,
   "metadata": {},
   "outputs": [],
   "source": [
    "# create cognition columns\n",
    "cogn_counts = df['COGN_FINAL'].value_counts()\n",
    "print(cogn_counts)\n",
    "cogn_counts.plot.bar(rot=90)\n",
    "\n",
    "cogn_index = cogn_counts.index.tolist()\n",
    "\n",
    "for cogn in cogn_index:\n",
    "    df[cogn] = 0\n",
    "\n",
    "for cogn in cogn_index:\n",
    "    df.loc[df['COGN_FINAL'] == cogn, cogn] = 1\n",
    "    \n",
    "# df.to_excel(path_out)"
   ]
  },
  {
   "cell_type": "code",
   "execution_count": null,
   "metadata": {},
   "outputs": [],
   "source": [
    "df_grouped = df.groupby('subject_id_x', as_index=False, sort=False)\n",
    "\n",
    "df_grouped.sum().to_excel(path_out_sum)\n",
    "df_grouped.mean().to_excel(path_out_mean)\n",
    "df_grouped.size().to_excel(path_out_size)\n"
   ]
  },
  {
   "cell_type": "code",
   "execution_count": null,
   "metadata": {},
   "outputs": [],
   "source": [
    " df['COGN_FINAL'].count()"
   ]
  },
  {
   "cell_type": "code",
   "execution_count": null,
   "metadata": {},
   "outputs": [],
   "source": [
    "def post_intake_graphs(df_graphs):\n",
    "    post_intake = pd.DataFrame(columns=['POST_INTAKE_CAT','MEAN'])\n",
    "    for x in range(1,25):\n",
    "        col = 'POST_INTAKE_POR_' + str(x)\n",
    "        count = df_graphs[col].notnull().sum()\n",
    "        post_intake = post_intake.append([\n",
    "            {'POST_INTAKE_CAT': col,\n",
    "             'COUNT': count,\n",
    "             'MEAN': df_graphs[col].mean(),\n",
    "            }])\n",
    "\n",
    "#     post_intake = post_intake.sort_values(by=['COUNT'], ascending=False)\n",
    "    print(post_intake)\n",
    "    post_intake.plot.bar(x='POST_INTAKE_CAT', y='MEAN', rot=90)\n",
    "    post_intake.plot.bar(x='POST_INTAKE_CAT', y='COUNT', rot=90)\n",
    "    \n",
    "df_binges = df.loc[(df['objective_binge'] == True)]\n",
    "print('total binges', len(df_binges.index))\n",
    "post_intake_graphs(df_binges)"
   ]
  },
  {
   "cell_type": "code",
   "execution_count": null,
   "metadata": {},
   "outputs": [],
   "source": [
    "df_non_binges = df.loc[(df['objective_binge'] != True)]\n",
    "print('total non-object binges', len(df_non_binges.index))\n",
    "post_intake_graphs(df_non_binges)"
   ]
  },
  {
   "cell_type": "code",
   "execution_count": null,
   "metadata": {},
   "outputs": [],
   "source": [
    "df['date_normal'] = pd.to_datetime(df['global_date_x']).dt.date\n",
    "df = df.sort_values('date_normal')\n",
    "\n",
    "# could have been done with groupby first\n",
    "def get_day(subject_id, date_normal):\n",
    "    subject_rows = df.loc[df['subject_id_x'] == subject_id]\n",
    "    subject_rows.sort_values('date_normal')\n",
    "    ref_date = subject_rows.iloc[0]['date_normal']\n",
    "    day = (date_normal - ref_date).days + 1\n",
    "    return day\n",
    "\n",
    "df['day_number'] = df.apply(lambda x: get_day(x['subject_id_x'], x['date_normal']), axis=1)\n",
    "\n",
    "summed_date = df.groupby(['subject_id_x','day_number'], as_index=False)['sum'].sum()\n"
   ]
  },
  {
   "cell_type": "code",
   "execution_count": null,
   "metadata": {},
   "outputs": [],
   "source": [
    "summed_date.to_excel(\"./../resources/data_ignored/report.merged-sanne-binge_1705-out-congnitions-date.xlsx\")\n"
   ]
  },
  {
   "cell_type": "code",
   "execution_count": null,
   "metadata": {},
   "outputs": [],
   "source": [
    "plt = summed_date.boxplot(column='sum', by='day_number')\n",
    "plt.figure.savefig(\"./../resources/data_ignored/compliance.png\")\n"
   ]
  },
  {
   "cell_type": "code",
   "execution_count": null,
   "metadata": {},
   "outputs": [],
   "source": []
  }
 ],
 "metadata": {
  "kernelspec": {
   "display_name": "Python 3",
   "language": "python",
   "name": "python3"
  },
  "language_info": {
   "codemirror_mode": {
    "name": "ipython",
    "version": 3
   },
   "file_extension": ".py",
   "mimetype": "text/x-python",
   "name": "python",
   "nbconvert_exporter": "python",
   "pygments_lexer": "ipython3",
   "version": "3.7.6"
  }
 },
 "nbformat": 4,
 "nbformat_minor": 4
}
