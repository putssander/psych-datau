{
 "cells": [
  {
   "cell_type": "markdown",
   "metadata": {},
   "source": [
    "# Filter out binge entries from mEMA questionnaire"
   ]
  },
  {
   "cell_type": "markdown",
   "metadata": {},
   "source": [
    "First drop all non-binge instances from app data"
   ]
  },
  {
   "cell_type": "code",
   "execution_count": null,
   "metadata": {},
   "outputs": [],
   "source": [
    "\n",
    "import pandas as pd\n",
    "\n",
    "path_in = '../resources/data_ignored/mEMA_Qualtrics_subject_part/report.merged-sanne-binge_1705.xlsx'\n",
    "\n",
    "df = pd.read_excel(path_in)\n",
    "col_subject_id = 'subject_id_x'\n",
    "\n",
    "print('unique', col_subject_id, len(df[col_subject_id].unique()))\n",
    "print('total instances', len(df.index))\n",
    "df_copy = df\n",
    "df = df.drop(df.index[df['objective_binge'] != True])\n",
    "print('binge instances', len(df.index))"
   ]
  },
  {
   "cell_type": "markdown",
   "metadata": {},
   "source": [
    "For binge instances determine unique subject ids"
   ]
  },
  {
   "cell_type": "code",
   "execution_count": null,
   "metadata": {},
   "outputs": [],
   "source": [
    "print('unique binge', col_subject_id, len(df[col_subject_id].unique()))\n",
    "objective_binge_subject_ids = df[col_subject_id].unique()\n",
    "print(objective_binge_subject_ids)"
   ]
  },
  {
   "cell_type": "markdown",
   "metadata": {},
   "source": [
    "Map subject ids to participant ids using a lookup excel document"
   ]
  },
  {
   "cell_type": "code",
   "execution_count": null,
   "metadata": {},
   "outputs": [],
   "source": [
    "path_in_mapping = '../resources/data_ignored/mEMA_Qualtrics_subject_part/Mapping_participant_subjectID.xlsx'\n",
    "path_in_questionnaire = '../resources/data_ignored/mEMA_Qualtrics_subject_part/Qualtrics_Merged_OBE_without_POST.xlsx'\n",
    "path_in_questionnaire_out = '../resources/data_ignored/mEMA_Qualtrics_subject_part/Qualtrics_Merged_OBE_without_POST_merge.xlsx'\n",
    "\n",
    "col_participant = 'participant' # please keep column names equal in mapping\n",
    "\n",
    "df_mapping = pd.read_excel(path_in_mapping)\n",
    "df_q = pd.read_excel(path_in_questionnaire)\n",
    "\n",
    "def get_mapped_participants():\n",
    "    objective_binge_participants = []\n",
    "    for subject_id in objective_binge_subject_ids:\n",
    "        value = df_mapping.loc[df_mapping[col_subject_id] == subject_id, col_participant].iloc[0]\n",
    "        objective_binge_participants.append(value)\n",
    "        print(subject_id, value)\n",
    "    return objective_binge_participants\n",
    "\n",
    "objective_binge_participants = get_mapped_participants()\n",
    "\n"
   ]
  },
  {
   "cell_type": "markdown",
   "metadata": {},
   "source": [
    "Drop all paricipants without binges and write to new excel file"
   ]
  },
  {
   "cell_type": "code",
   "execution_count": null,
   "metadata": {},
   "outputs": [],
   "source": [
    "df_q_copy = df_q\n",
    "print(len(df_q.index))\n",
    "print('unique', col_participant, len(df_q[col_participant].unique()))\n",
    "df_q = df_q[df_q[col_participant].isin(objective_binge_participants)]\n",
    "print(len(df_q.index))\n",
    "print('unique binge', col_participant, len(df_q[col_participant].unique()))\n",
    "\n",
    "df_q.to_excel(path_in_questionnaire_out)"
   ]
  },
  {
   "cell_type": "markdown",
   "metadata": {},
   "source": [
    "Add columns to eating moments"
   ]
  },
  {
   "cell_type": "code",
   "execution_count": null,
   "metadata": {},
   "outputs": [],
   "source": [
    "def get_participant_value(subject_id, column_name):\n",
    "    mapped_participant = df_mapping.loc[df_mapping[col_subject_id] == subject_id, col_participant]\n",
    "    if len(mapped_participant.value_counts()) == 0:\n",
    "        return 'NO_MAPPING'\n",
    "    \n",
    "    mapped_participant_value = mapped_participant.iloc[0]\n",
    "    val = df_q_copy.loc[df_q_copy[col_participant] == mapped_participant_value, column_name]\n",
    "    if len(val.value_counts()) == 0:\n",
    "        return 'NO_VALUE'\n",
    "    return val.iloc[0]\n",
    "\n",
    "columns_to_add = ['ClassificationEDEQ']\n",
    "for column_name in columns_to_add:\n",
    "    print(column_name)\n",
    "    df_copy[column_name] = df_copy.apply(lambda x: get_participant_value(x[col_subject_id], column_name), axis=1)\n",
    "   \n",
    "print('write')\n",
    "df_copy.to_excel('../resources/data_ignored/mEMA_Qualtrics_subject_part/report.merged-sanne-binge_1705-out.xlsx')  \n",
    "print('done!')"
   ]
  },
  {
   "cell_type": "code",
   "execution_count": null,
   "metadata": {},
   "outputs": [],
   "source": []
  }
 ],
 "metadata": {
  "kernelspec": {
   "display_name": "Python 3",
   "language": "python",
   "name": "python3"
  },
  "language_info": {
   "codemirror_mode": {
    "name": "ipython",
    "version": 3
   },
   "file_extension": ".py",
   "mimetype": "text/x-python",
   "name": "python",
   "nbconvert_exporter": "python",
   "pygments_lexer": "ipython3",
   "version": "3.7.6"
  }
 },
 "nbformat": 4,
 "nbformat_minor": 4
}
