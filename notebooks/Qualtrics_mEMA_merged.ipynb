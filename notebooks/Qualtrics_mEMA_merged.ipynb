{
 "cells": [
  {
   "cell_type": "markdown",
   "metadata": {},
   "source": [
    "# Filter out binge entries from mEMA questionnaire"
   ]
  },
  {
   "cell_type": "markdown",
   "metadata": {},
   "source": [
    "First drop all non-binge instances from app data"
   ]
  },
  {
   "cell_type": "code",
   "execution_count": 1,
   "metadata": {},
   "outputs": [
    {
     "name": "stdout",
     "output_type": "stream",
     "text": [
      "unique subject_id_x 42\n",
      "total instances 1874\n",
      "binge instances 186\n"
     ]
    }
   ],
   "source": [
    "\n",
    "import pandas as pd\n",
    "\n",
    "path_in = '../resources/data_ignored/Verena/mEMA_merged_VJ_06052020.xlsx'\n",
    "df = pd.read_excel(path_in)\n",
    "col_subject_id = 'subject_id_x'\n",
    "\n",
    "print('unique', col_subject_id, len(df[col_subject_id].unique()))\n",
    "print('total instances', len(df.index))\n",
    "df = df.drop(df.index[df['objective_binge'] != True])\n",
    "print('binge instances', len(df.index))"
   ]
  },
  {
   "cell_type": "markdown",
   "metadata": {},
   "source": [
    "For binge instances determine unique subject ids"
   ]
  },
  {
   "cell_type": "code",
   "execution_count": 2,
   "metadata": {},
   "outputs": [
    {
     "name": "stdout",
     "output_type": "stream",
     "text": [
      "unique binge subject_id_x 38\n",
      "[19312 19197 19180 19179 19176 19126 19039 19038 19036 19035 19034 18965\n",
      " 18926 18924 18742 18736 18734 18727 18726 18699 18696 18689 18680 18639\n",
      " 18579 18570 18445 18410 18402 18396 18392 18391 18246 18238 18228 18224\n",
      " 18188 18124]\n"
     ]
    }
   ],
   "source": [
    "print('unique binge', col_subject_id, len(df[col_subject_id].unique()))\n",
    "objective_binge_subject_ids = df[col_subject_id].unique()\n",
    "print(objective_binge_subject_ids)"
   ]
  },
  {
   "cell_type": "markdown",
   "metadata": {},
   "source": [
    "Map subject ids to participant ids using a lookup excel document"
   ]
  },
  {
   "cell_type": "code",
   "execution_count": 3,
   "metadata": {},
   "outputs": [
    {
     "ename": "NameError",
     "evalue": "name 'path_in_questionaire' is not defined",
     "output_type": "error",
     "traceback": [
      "\u001b[0;31m---------------------------------------------------------------------------\u001b[0m",
      "\u001b[0;31mNameError\u001b[0m                                 Traceback (most recent call last)",
      "\u001b[0;32m<ipython-input-3-f35f204bba55>\u001b[0m in \u001b[0;36m<module>\u001b[0;34m\u001b[0m\n\u001b[1;32m      6\u001b[0m \u001b[0;34m\u001b[0m\u001b[0m\n\u001b[1;32m      7\u001b[0m \u001b[0mdf_mapping\u001b[0m \u001b[0;34m=\u001b[0m \u001b[0mpd\u001b[0m\u001b[0;34m.\u001b[0m\u001b[0mread_excel\u001b[0m\u001b[0;34m(\u001b[0m\u001b[0mpath_in_mapping\u001b[0m\u001b[0;34m)\u001b[0m\u001b[0;34m\u001b[0m\u001b[0;34m\u001b[0m\u001b[0m\n\u001b[0;32m----> 8\u001b[0;31m \u001b[0mdf_q\u001b[0m \u001b[0;34m=\u001b[0m \u001b[0mpd\u001b[0m\u001b[0;34m.\u001b[0m\u001b[0mread_excel\u001b[0m\u001b[0;34m(\u001b[0m\u001b[0mpath_in_questionaire\u001b[0m\u001b[0;34m)\u001b[0m\u001b[0;34m\u001b[0m\u001b[0;34m\u001b[0m\u001b[0m\n\u001b[0m\u001b[1;32m      9\u001b[0m \u001b[0;34m\u001b[0m\u001b[0m\n\u001b[1;32m     10\u001b[0m \u001b[0;32mdef\u001b[0m \u001b[0mget_mapped_participants\u001b[0m\u001b[0;34m(\u001b[0m\u001b[0;34m)\u001b[0m\u001b[0;34m:\u001b[0m\u001b[0;34m\u001b[0m\u001b[0;34m\u001b[0m\u001b[0m\n",
      "\u001b[0;31mNameError\u001b[0m: name 'path_in_questionaire' is not defined"
     ]
    }
   ],
   "source": [
    "path_in_mapping = '../resources/data_ignored/Qualtrics_link/mapping_subject_id.xlsx'\n",
    "path_in_questionnaire = '../resources/data_ignored/Qualtrics_link/Merged_Unfiltered_no_post.xlsx'\n",
    "path_in_questionnaire_out = '../resources/data_ignored/Qualtrics_link/Merged_Unfiltered_no_post_binges.xlsx'\n",
    "\n",
    "col_participant = 'participant' # please keep column names equal in mapping\n",
    "\n",
    "df_mapping = pd.read_excel(path_in_mapping)\n",
    "df_q = pd.read_excel(path_in_questionaire)\n",
    "\n",
    "def get_mapped_participants():\n",
    "    objective_binge_participants = []\n",
    "    for subject_id in objective_binge_subject_ids:\n",
    "        value = df_mapping.loc[df_mapping[col_subject_id] == subject_id, col_participant].iloc[0]\n",
    "        objective_binge_participants.append(value)\n",
    "        print(subject_id, value)\n",
    "    return objective_binge_participants\n",
    "\n",
    "objective_binge_participants = get_mapped_participants()\n",
    "\n"
   ]
  },
  {
   "cell_type": "markdown",
   "metadata": {},
   "source": [
    "Drop all paricipants without binges and write to new excel file"
   ]
  },
  {
   "cell_type": "code",
   "execution_count": null,
   "metadata": {},
   "outputs": [],
   "source": [
    "print(len(df_q.index))\n",
    "print('unique', col_participant, len(df_q[col_participant].unique()))\n",
    "df_q = df_q[df_q[col_participant].isin(objective_binge_participants)]\n",
    "print(len(df_q.index))\n",
    "print('unique binge', col_participant, len(df_q[col_participant].unique()))\n",
    "\n",
    "df_q.to_excel(path_in_questionnaire_out)"
   ]
  }
 ],
 "metadata": {
  "kernelspec": {
   "display_name": "Python 3",
   "language": "python",
   "name": "python3"
  },
  "language_info": {
   "codemirror_mode": {
    "name": "ipython",
    "version": 3
   },
   "file_extension": ".py",
   "mimetype": "text/x-python",
   "name": "python",
   "nbconvert_exporter": "python",
   "pygments_lexer": "ipython3",
   "version": "3.7.6"
  }
 },
 "nbformat": 4,
 "nbformat_minor": 4
}
