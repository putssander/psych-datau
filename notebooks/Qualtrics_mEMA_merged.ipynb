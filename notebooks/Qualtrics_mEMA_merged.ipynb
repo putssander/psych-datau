{
 "cells": [
  {
   "cell_type": "code",
   "execution_count": 8,
   "metadata": {},
   "outputs": [
    {
     "name": "stdout",
     "output_type": "stream",
     "text": [
      "1874\n",
      "186\n"
     ]
    }
   ],
   "source": [
    "import pandas as pd\n",
    "\n",
    "path_in = '../resources/data_ignored/Verena/mEMA_merged_VJ_06052020.xlsx'\n",
    "df = pd.read_excel(path_in)\n",
    "\n",
    "# the results will be written to the following files\n",
    "path_out_link_column = './../resources/data_ignored/Qualtrics_link.xlsx'\n",
    "\n",
    "col_subject_id = 'subject_id_x'\n",
    "\n",
    "print(len(df.index))\n",
    "df = df.drop(df.index[df['objective_binge'] != True])\n",
    "print(len(df.index))"
   ]
  },
  {
   "cell_type": "code",
   "execution_count": 14,
   "metadata": {},
   "outputs": [
    {
     "name": "stdout",
     "output_type": "stream",
     "text": [
      "[19312 19197 19180 19179 19176 19126 19039 19038 19036 19035 19034 18965\n",
      " 18926 18924 18742 18736 18734 18727 18726 18699 18696 18689 18680 18639\n",
      " 18579 18570 18445 18410 18402 18396 18392 18391 18246 18238 18228 18224\n",
      " 18188 18124]\n",
      "38\n"
     ]
    }
   ],
   "source": [
    "objective_binge_subjects = df[col_subject_id].unique()\n",
    "print(objective_binge_subjects)\n",
    "print(len(objective_binge_subjects))\n",
    "\n",
    "# objective_binge_subjects.to_excel(path_out_link_column)"
   ]
  },
  {
   "cell_type": "code",
   "execution_count": null,
   "metadata": {},
   "outputs": [],
   "source": []
  }
 ],
 "metadata": {
  "kernelspec": {
   "display_name": "Python 3",
   "language": "python",
   "name": "python3"
  },
  "language_info": {
   "codemirror_mode": {
    "name": "ipython",
    "version": 3
   },
   "file_extension": ".py",
   "mimetype": "text/x-python",
   "name": "python",
   "nbconvert_exporter": "python",
   "pygments_lexer": "ipython3",
   "version": "3.7.6"
  }
 },
 "nbformat": 4,
 "nbformat_minor": 4
}
