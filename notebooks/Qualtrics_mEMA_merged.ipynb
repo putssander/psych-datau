{
 "cells": [
  {
   "cell_type": "code",
   "execution_count": 1,
   "metadata": {},
   "outputs": [
    {
     "name": "stdout",
     "output_type": "stream",
     "text": [
      "unique subject_id_x 42\n",
      "total instances 1874\n",
      "binge instances 186\n"
     ]
    }
   ],
   "source": [
    "import pandas as pd\n",
    "\n",
    "path_in = '../resources/data_ignored/Verena/mEMA_merged_VJ_06052020.xlsx'\n",
    "df = pd.read_excel(path_in)\n",
    "\n",
    "# the results will be written to the following files\n",
    "path_out_link_column = './../resources/data_ignored/Qualtrics_link.xlsx'\n",
    "\n",
    "col_subject_id = 'subject_id_x'\n",
    "\n",
    "print('unique', col_subject_id, len(df[col_subject_id].unique()))\n",
    "print('total instances', len(df.index))\n",
    "df = df.drop(df.index[df['objective_binge'] != True])\n",
    "print('binge instances', len(df.index))"
   ]
  },
  {
   "cell_type": "code",
   "execution_count": 2,
   "metadata": {},
   "outputs": [
    {
     "name": "stdout",
     "output_type": "stream",
     "text": [
      "unique binge subject_id_x 38\n",
      "[19312 19197 19180 19179 19176 19126 19039 19038 19036 19035 19034 18965\n",
      " 18926 18924 18742 18736 18734 18727 18726 18699 18696 18689 18680 18639\n",
      " 18579 18570 18445 18410 18402 18396 18392 18391 18246 18238 18228 18224\n",
      " 18188 18124]\n"
     ]
    }
   ],
   "source": [
    "print('unique binge', col_subject_id, len(df[col_subject_id].unique()))\n",
    "objective_binge_subject_ids = df[col_subject_id].unique()\n",
    "print(objective_binge_subject_ids)\n",
    "\n",
    "# objective_binge_subjects.to_excel(path_out_link_column)"
   ]
  },
  {
   "cell_type": "code",
   "execution_count": 4,
   "metadata": {},
   "outputs": [
    {
     "name": "stdout",
     "output_type": "stream",
     "text": [
      "19312 11c64b3de7113c44a4a1\n",
      "19197 83782ac5d4f706c6a038\n",
      "19180 6894fc27e082b4253280\n",
      "19179 80cd75459a263096b294\n",
      "19176 d825070268a54baf5c78\n",
      "19126 53332af9f31c800b2ea8\n",
      "19039 e4477f1981d4a1cb3bd4\n",
      "19038 e422b74d885e74ea237e\n",
      "19036 b1abb503f0faa20c1015\n",
      "19035 63a78e2a2be39937b15b\n",
      "19034 9a453fc69ca87a376ddd\n",
      "18965 1bc17639f57ef1c19e2f\n",
      "18926 89e97e5645a24e4f0430\n",
      "18924 8c3d526bd116885bae8c\n",
      "18742 7a83973b97a9eca3d0b7\n",
      "18736 d61ea9093c90629b53f0\n",
      "18734 31c5d5af795645c84806\n",
      "18727 68ce6d809ca5fae05528\n",
      "18726 c1558765d6a7dae29d78\n",
      "18699 454cb10ab1f587b9d109\n",
      "18696 2594eff948ddc2ea656a\n",
      "18689 84b177ff3faeeaa1d6b0\n",
      "18680 d4edd8b6e431e13102df\n",
      "18639 e03fbbb0ac0df2f56dce\n",
      "18579 a274733434a16d66bb95\n",
      "18570 ab4a499261188dbbd09e\n",
      "18445 d66456f61a2994728d19\n",
      "18410 51457cb99ac22ba7c30d\n",
      "18402 e8d1176374627ffdb96b\n",
      "18396 6559f4bbfebbac54d03f\n",
      "18392 1504ad074b95c8b7ed2d\n",
      "18391 afc46f547dd64533deab\n",
      "18246 4e080b7d9bbbfbd7cea5\n",
      "18238 98aa0a841c81135588a8\n",
      "18228 a6fcd60a6ab5e11d9d17\n",
      "18224 4906c9bfe5351f17658c\n",
      "18188 0bd5d6218902d1051ca2\n",
      "18124 219a819e9cdedf53fc74\n",
      "298\n",
      "unique participant 297\n",
      "260\n",
      "unique binge participant 259\n"
     ]
    }
   ],
   "source": [
    "path_in_mapping = '../resources/data_ignored/Qualtrics_link/mapping_subject_id.xlsx'\n",
    "path_in_questionaire = '../resources/data_ignored/Qualtrics_link/BtB_Study 1_NL_Merged_01052020_VJ.xlsx'\n",
    "path_in_questionaire_out = '../resources/data_ignored/Qualtrics_link/BtB_Study 1_NL_Merged_01052020_VJ_binges.xlsx'\n",
    "\n",
    "col_participant = 'participant' # please keep column names equal in mapping\n",
    "\n",
    "df_mapping = pd.read_excel(path_in_mapping)\n",
    "df_q = pd.read_excel(path_in_questionaire)\n",
    "\n",
    "def get_mapped_participants():\n",
    "    objective_binge_participants = []\n",
    "    for subject_id in objective_binge_subject_ids:\n",
    "        value = df_mapping.loc[df_mapping[col_subject_id] == subject_id, col_participant].iloc[0]\n",
    "        objective_binge_participants.append(value)\n",
    "        print(subject_id, value)\n",
    "    return objective_binge_participants\n",
    "\n",
    "objective_binge_participants = get_mapped_participants()\n",
    "\n",
    "print(len(df_q.index))\n",
    "print('unique', col_participant, len(df_q[col_participant].unique()))\n",
    "df_q = df_q[~df_q[col_participant].isin(objective_binge_participants)]\n",
    "print(len(df_q.index))\n",
    "print('unique binge', col_participant, len(df_q[col_participant].unique()))\n",
    "\n",
    "df_q.to_excel(path_in_questionaire_out)\n"
   ]
  },
  {
   "cell_type": "code",
   "execution_count": null,
   "metadata": {},
   "outputs": [],
   "source": []
  }
 ],
 "metadata": {
  "kernelspec": {
   "display_name": "Python 3",
   "language": "python",
   "name": "python3"
  },
  "language_info": {
   "codemirror_mode": {
    "name": "ipython",
    "version": 3
   },
   "file_extension": ".py",
   "mimetype": "text/x-python",
   "name": "python",
   "nbconvert_exporter": "python",
   "pygments_lexer": "ipython3",
   "version": "3.7.6"
  }
 },
 "nbformat": 4,
 "nbformat_minor": 4
}
