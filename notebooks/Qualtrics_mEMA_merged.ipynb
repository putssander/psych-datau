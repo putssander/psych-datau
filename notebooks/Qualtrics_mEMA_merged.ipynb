{
 "cells": [
  {
   "cell_type": "code",
   "execution_count": null,
   "metadata": {},
   "outputs": [],
   "source": [
    "import pandas as pd\n",
    "\n",
    "path_in = '../resources/data_ignored/Verena/mEMA_merged_VJ_06052020.xlsx'\n",
    "df = pd.read_excel(path_in)\n",
    "\n",
    "# the results will be written to the following files\n",
    "path_out_link_column = './../resources/data_ignored/Qualtrics_link.xlsx'\n",
    "\n",
    "col_subject_id = 'subject_id_x'\n",
    "\n",
    "print('unique', col_subject_id, len(df[col_subject_id].unique()))\n",
    "print('total instances', len(df.index))\n",
    "df = df.drop(df.index[df['objective_binge'] != True])\n",
    "print('binge instances', len(df.index))"
   ]
  },
  {
   "cell_type": "code",
   "execution_count": null,
   "metadata": {},
   "outputs": [],
   "source": [
    "print('unique binge', col_subject_id, len(df[col_subject_id].unique()))\n",
    "objective_binge_subject_ids = df[col_subject_id].unique()\n",
    "print(objective_binge_subject_ids)"
   ]
  },
  {
   "cell_type": "code",
   "execution_count": null,
   "metadata": {},
   "outputs": [],
   "source": [
    "path_in_mapping = '../resources/data_ignored/Qualtrics_link/mapping_subject_id.xlsx'\n",
    "path_in_questionaire = '../resources/data_ignored/Qualtrics_link/BtB_Study 1_NL_Merged_01052020_VJ.xlsx'\n",
    "path_in_questionaire_out = '../resources/data_ignored/Qualtrics_link/BtB_Study 1_NL_Merged_01052020_VJ_binges.xlsx'\n",
    "\n",
    "col_participant = 'participant' # please keep column names equal in mapping\n",
    "\n",
    "df_mapping = pd.read_excel(path_in_mapping)\n",
    "df_q = pd.read_excel(path_in_questionaire)\n",
    "\n",
    "def get_mapped_participants():\n",
    "    objective_binge_participants = []\n",
    "    for subject_id in objective_binge_subject_ids:\n",
    "        value = df_mapping.loc[df_mapping[col_subject_id] == subject_id, col_participant].iloc[0]\n",
    "        objective_binge_participants.append(value)\n",
    "        print(subject_id, value)\n",
    "    return objective_binge_participants\n",
    "\n",
    "objective_binge_participants = get_mapped_participants()\n",
    "\n",
    "print(len(df_q.index))\n",
    "print('unique', col_participant, len(df_q[col_participant].unique()))\n",
    "df_q = df_q[df_q[col_participant].isin(objective_binge_participants)]\n",
    "print(len(df_q.index))\n",
    "print('unique binge', col_participant, len(df_q[col_participant].unique()))\n",
    "\n",
    "df_q.to_excel(path_in_questionaire_out)\n"
   ]
  },
  {
   "cell_type": "code",
   "execution_count": null,
   "metadata": {},
   "outputs": [],
   "source": []
  }
 ],
 "metadata": {
  "kernelspec": {
   "display_name": "Python 3",
   "language": "python",
   "name": "python3"
  },
  "language_info": {
   "codemirror_mode": {
    "name": "ipython",
    "version": 3
   },
   "file_extension": ".py",
   "mimetype": "text/x-python",
   "name": "python",
   "nbconvert_exporter": "python",
   "pygments_lexer": "ipython3",
   "version": "3.7.6"
  }
 },
 "nbformat": 4,
 "nbformat_minor": 4
}
